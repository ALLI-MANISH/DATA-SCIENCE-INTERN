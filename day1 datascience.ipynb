{
 "cells": [
  {
   "cell_type": "code",
   "execution_count": 3,
   "id": "50a7a369-9574-429b-85f9-c3a065b38493",
   "metadata": {},
   "outputs": [],
   "source": [
    "a = 'c'"
   ]
  },
  {
   "cell_type": "code",
   "execution_count": 4,
   "id": "a339c976-a25e-46a8-a24d-2efc87c79200",
   "metadata": {},
   "outputs": [
    {
     "data": {
      "text/plain": [
       "str"
      ]
     },
     "execution_count": 4,
     "metadata": {},
     "output_type": "execute_result"
    }
   ],
   "source": [
    "type(a)"
   ]
  },
  {
   "cell_type": "code",
   "execution_count": 5,
   "id": "fafe7592-a17b-48fa-b9b1-4ca65f4ad940",
   "metadata": {},
   "outputs": [
    {
     "name": "stdout",
     "output_type": "stream",
     "text": [
      "hello world\n"
     ]
    }
   ],
   "source": [
    "print('hello world')"
   ]
  },
  {
   "cell_type": "code",
   "execution_count": 6,
   "id": "fc86880f-a1ab-4a23-8992-d9f566f99fd4",
   "metadata": {},
   "outputs": [
    {
     "name": "stdout",
     "output_type": "stream",
     "text": [
      "my age is: 19\n"
     ]
    }
   ],
   "source": [
    "age=19\n",
    "print('my age is:',age)"
   ]
  },
  {
   "cell_type": "code",
   "execution_count": 11,
   "id": "15d75980-cb12-4b32-bed8-b1554f5add64",
   "metadata": {},
   "outputs": [
    {
     "name": "stdout",
     "output_type": "stream",
     "text": [
      "my age is:19\n"
     ]
    }
   ],
   "source": [
    "##fstring\n",
    "print(f'my age is:{age}')\n"
   ]
  },
  {
   "cell_type": "code",
   "execution_count": 14,
   "id": "e9d1df43-82b8-467d-975e-4ca4ae985b86",
   "metadata": {},
   "outputs": [
    {
     "name": "stdout",
     "output_type": "stream",
     "text": [
      "my name is manish and age is 19\n"
     ]
    }
   ],
   "source": [
    "##format()\n",
    "name=\"manish\"\n",
    "age=19\n",
    "print(\"my name is {} and age is {}\" .format(name,age))"
   ]
  },
  {
   "cell_type": "code",
   "execution_count": null,
   "id": "5f0029bb-87dd-4a48-9332-f048b20f916d",
   "metadata": {},
   "outputs": [],
   "source": []
  },
  {
   "cell_type": "code",
   "execution_count": 19,
   "id": "e584b1ba-d06f-4a3a-8ea2-48e2a907a831",
   "metadata": {},
   "outputs": [
    {
     "name": "stdout",
     "output_type": "stream",
     "text": [
      "my name is manish and age is 19\n"
     ]
    }
   ],
   "source": [
    "##placeholder\n",
    "print(\"my name is {firstname} and age is {firstage}\".format(firstage=age,firstname=name))"
   ]
  },
  {
   "cell_type": "code",
   "execution_count": 2,
   "id": "7c3ecbb8-908e-4ac2-aba2-e1d675524a80",
   "metadata": {},
   "outputs": [
    {
     "name": "stdout",
     "output_type": "stream",
     "text": [
      "my age is 19 and i have completed: my degree BE with the name of manish\n"
     ]
    }
   ],
   "source": [
    "name=\"manish\"\n",
    "age=19\n",
    "degree=\"BE\"\n",
    "print(\"my age is {} and i have completed: my degree {} with the name of {}\".format(age,degree,name))"
   ]
  },
  {
   "cell_type": "code",
   "execution_count": 3,
   "id": "bd92dacf-1f2c-430d-8606-4d11ee4916cd",
   "metadata": {},
   "outputs": [
    {
     "name": "stdout",
     "output_type": "stream",
     "text": [
      "my age is 19 and i have completed: my degree BE with the name of manish\n"
     ]
    }
   ],
   "source": [
    "print(f\"my age is {age} and i have completed: my degree {degree} with the name of {name}\")"
   ]
  },
  {
   "cell_type": "code",
   "execution_count": 4,
   "id": "adf5fecc-db9f-4a4a-b5c7-64b66d58d6c3",
   "metadata": {},
   "outputs": [],
   "source": [
    "##flowstatements\n"
   ]
  },
  {
   "cell_type": "markdown",
   "id": "64cfae82-0d06-4ec9-b272-b84332f10640",
   "metadata": {},
   "source": [
    "##### ifstatements\n",
    "age=18\n",
    "if age>=18:\n",
    "    print(\"you are eligible to vote\")"
   ]
  },
  {
   "cell_type": "code",
   "execution_count": 6,
   "id": "8acdbacc-24e1-4100-b53e-1182af97ef34",
   "metadata": {},
   "outputs": [
    {
     "name": "stdin",
     "output_type": "stream",
     "text": [
      "enter the age 30\n"
     ]
    },
    {
     "name": "stdout",
     "output_type": "stream",
     "text": [
      "you are young blood\n"
     ]
    }
   ],
   "source": [
    "age=int(input(\"enter the age\"))\n",
    "if age>=18 and age<=45:\n",
    "    print(\"you are young blood\")"
   ]
  },
  {
   "cell_type": "code",
   "execution_count": 7,
   "id": "368aa177-34d6-462b-b574-ef578426076d",
   "metadata": {},
   "outputs": [
    {
     "name": "stdin",
     "output_type": "stream",
     "text": [
      "enter the age 46\n"
     ]
    },
    {
     "name": "stdout",
     "output_type": "stream",
     "text": [
      "thank you we will let you know\n"
     ]
    }
   ],
   "source": [
    "age=int(input(\"enter the age\"))\n",
    "if age>=18 and age<=45:\n",
    "    print(\"you are young blood\")\n",
    "else:\n",
    "    print(\"thank you we will let you know\")"
   ]
  },
  {
   "cell_type": "code",
   "execution_count": 1,
   "id": "d0987d1a-8426-440e-840c-b0874ac5c9e7",
   "metadata": {},
   "outputs": [
    {
     "name": "stdin",
     "output_type": "stream",
     "text": [
      "enter the price 3999\n"
     ]
    },
    {
     "name": "stdout",
     "output_type": "stream",
     "text": [
      "the price of the product is 3199.2000000000003\n"
     ]
    }
   ],
   "source": [
    "product_price=int(input(\"enter the price\"))\n",
    "if product_price>1000:\n",
    "    print(\"the price of the product is {}\".format(product_price*0.8))\n",
    "else:\n",
    "    print(\"the price of the product is {}\".format(product_price*0.7))"
   ]
  },
  {
   "cell_type": "code",
   "execution_count": 18,
   "id": "67b7143a-c81f-483d-9ad7-65dadb907ddc",
   "metadata": {},
   "outputs": [
    {
     "name": "stdin",
     "output_type": "stream",
     "text": [
      "enter the price 4000\n"
     ]
    },
    {
     "name": "stdout",
     "output_type": "stream",
     "text": [
      "congrsgulation goa trip\n",
      "the price of the product is 3200.0\n"
     ]
    }
   ],
   "source": [
    "product_price=int(input(\"enter the price\"))\n",
    "if product_price>3000:\n",
    "    if product_price==4000:\n",
    "        print(\"congrsgulation goa trip\")\n",
    "    print(\"the price of the product is {}\".format(product_price*0.8))\n",
    "elif product_price>=2000 and product_price<=3000:\n",
    "    if product_price==2999:\n",
    "        print(\"congrgulation you got gift\")\n",
    "        print(\"the price of the product is {}\".format(product_price*0.7))\n",
    "else:\n",
    "    print(\"the price of the product is {}\".format(product_price*0.6))"
   ]
  },
  {
   "cell_type": "code",
   "execution_count": null,
   "id": "0120ee67-03d5-47d9-b021-ed2eeb33dd1d",
   "metadata": {},
   "outputs": [],
   "source": [
    "#Loops Statements\n",
    "1.while loop\n",
    "2.forloop\n",
    "3.nestedloop\n",
    "4.Loop control(break,continue,pass)"
   ]
  },
  {
   "cell_type": "code",
   "execution_count": 22,
   "id": "77dcbbea-cc91-4063-8c2d-34988df7ad57",
   "metadata": {},
   "outputs": [
    {
     "name": "stdout",
     "output_type": "stream",
     "text": [
      "26\n",
      "27\n",
      "28\n",
      "29\n",
      "30\n",
      "31\n",
      "32\n",
      "33\n",
      "34\n",
      "35\n",
      "36\n",
      "37\n",
      "38\n",
      "39\n",
      "40\n",
      "41\n",
      "42\n",
      "43\n",
      "44\n",
      "45\n",
      "46\n",
      "47\n",
      "48\n",
      "49\n",
      "50\n",
      "51\n",
      "52\n",
      "53\n",
      "54\n",
      "55\n",
      "56\n",
      "57\n",
      "58\n",
      "59\n",
      "60\n",
      "its time for retirement\n"
     ]
    }
   ],
   "source": [
    "#whileloop\n",
    "joining_age=25\n",
    "while joining_age<60:\n",
    "    joining_age=joining_age+1\n",
    "    print(joining_age)\n",
    "else:\n",
    "    print(\"its time for retirement\")\n",
    "    \n"
   ]
  },
  {
   "cell_type": "code",
   "execution_count": 25,
   "id": "35081f2c-3ede-4b50-a44d-bb9e87795283",
   "metadata": {},
   "outputs": [
    {
     "name": "stdout",
     "output_type": "stream",
     "text": [
      "1000\n",
      "900\n",
      "800\n",
      "700\n",
      "600\n",
      "500\n",
      "400\n",
      "300\n",
      "200\n",
      "100\n",
      "put some amount bank people\n"
     ]
    }
   ],
   "source": [
    "total_amount=1000\n",
    "while total_amount!=0:\n",
    "    print(total_amount)\n",
    "    total_amount=total_amount-100\n",
    "else:\n",
    "    print(\"put some amount bank people\")"
   ]
  },
  {
   "cell_type": "code",
   "execution_count": null,
   "id": "02442f28-2c94-48e2-844e-4a6d3b63fd8f",
   "metadata": {},
   "outputs": [],
   "source": [
    "##forloop\n"
   ]
  },
  {
   "cell_type": "code",
   "execution_count": 26,
   "id": "70964023-1eb9-4f3f-b84a-df221a4bf5c2",
   "metadata": {},
   "outputs": [],
   "source": [
    "friend_lst=[\"hari\",\"akshay\",\"lalla\",\"vivek\",\"manikumar\",\"vignesh\",\"giri\",\"sairam\"]"
   ]
  },
  {
   "cell_type": "code",
   "execution_count": 28,
   "id": "b0a6a713-ee74-467a-b0cc-ec0689f20814",
   "metadata": {},
   "outputs": [
    {
     "name": "stdout",
     "output_type": "stream",
     "text": [
      "hari\n",
      "hari is best friend\n",
      "akshay\n",
      "lalla\n",
      "vivek\n",
      "manikumar\n",
      "vignesh\n",
      "giri\n",
      "sairam\n"
     ]
    }
   ],
   "source": [
    "for x in friend_lst:\n",
    "    print(x)\n",
    "    if x==\"hari\":\n",
    "        print(\"hari is best friend\")"
   ]
  },
  {
   "cell_type": "code",
   "execution_count": 29,
   "id": "00522358-4859-4db7-98ff-24f2c301cea0",
   "metadata": {},
   "outputs": [
    {
     "name": "stdout",
     "output_type": "stream",
     "text": [
      "d\n",
      "e\n",
      "e\n",
      "p\n",
      "a\n",
      "k\n"
     ]
    }
   ],
   "source": [
    "friend='deepak'\n",
    "for i in friend:\n",
    "    print(i)"
   ]
  },
  {
   "cell_type": "code",
   "execution_count": 31,
   "id": "68afe200-368a-4fc6-9cf2-c21c217e04cb",
   "metadata": {},
   "outputs": [
    {
     "name": "stdout",
     "output_type": "stream",
     "text": [
      "deepak"
     ]
    }
   ],
   "source": [
    "friend='deepak'\n",
    "for i in friend:\n",
    "    print(i,end='')"
   ]
  },
  {
   "cell_type": "code",
   "execution_count": 1,
   "id": "dd85046a-f8a5-4120-9d46-8d98de4174a6",
   "metadata": {},
   "outputs": [],
   "source": [
    "#nested loops\n"
   ]
  },
  {
   "cell_type": "code",
   "execution_count": 1,
   "id": "10f561bc-c785-442a-9898-85748100bed5",
   "metadata": {},
   "outputs": [
    {
     "name": "stdout",
     "output_type": "stream",
     "text": [
      "1\n",
      "2\n",
      "3\n",
      "4\n",
      "5\n"
     ]
    }
   ],
   "source": [
    "for i in range(1,6):\n",
    "    print(i)"
   ]
  },
  {
   "cell_type": "code",
   "execution_count": 2,
   "id": "9c6a6852-771f-4945-b5e2-0ce1957418e1",
   "metadata": {},
   "outputs": [
    {
     "name": "stdout",
     "output_type": "stream",
     "text": [
      "1\n",
      "3\n",
      "5\n",
      "7\n",
      "9\n"
     ]
    }
   ],
   "source": [
    "for i in range(1,10,2):\n",
    "    print(i)\n",
    "    "
   ]
  },
  {
   "cell_type": "code",
   "execution_count": 6,
   "id": "647a551a-fbb5-4e36-82c6-16553ea15acc",
   "metadata": {},
   "outputs": [
    {
     "name": "stdout",
     "output_type": "stream",
     "text": [
      "*\n",
      "**\n",
      "***\n",
      "****\n",
      "*****\n",
      "******\n",
      "*******\n"
     ]
    }
   ],
   "source": [
    "n=7\n",
    "for i in range(0,n):\n",
    "    for j in range(0,i+1):\n",
    "        print(\"*\",end=\"\")\n",
    "    print(\"\\r\")\n",
    "        \n",
    "        \n",
    "        \n",
    "    "
   ]
  },
  {
   "cell_type": "code",
   "execution_count": 11,
   "id": "3905fc2b-448e-4bfe-a6ef-e3bb7b8f7fb5",
   "metadata": {},
   "outputs": [
    {
     "name": "stdout",
     "output_type": "stream",
     "text": [
      "hari\n",
      "akshay\n",
      "lalla\n",
      "vivek heart broken\n"
     ]
    }
   ],
   "source": [
    "friend_lst=[\"hari\",\"akshay\",\"lalla\",\"vivek\",\"manikumar\",\"vignesh\",\"giri\",\"sairam\"]\n",
    "for i in friend_lst:\n",
    "    if i==\"vivek\":\n",
    "        print(\"vivek heart broken\")\n",
    "        break\n",
    "    print(i)\n",
    "       "
   ]
  },
  {
   "cell_type": "code",
   "execution_count": 12,
   "id": "d949f4f9-8e49-4a4f-9971-2452157adc7b",
   "metadata": {},
   "outputs": [
    {
     "name": "stdout",
     "output_type": "stream",
     "text": [
      "hari\n",
      "akshay\n",
      "lalla\n",
      "vivek heart broken\n",
      "vivek\n",
      "manikumar\n",
      "vignesh\n",
      "giri\n",
      "sairam\n"
     ]
    }
   ],
   "source": [
    "friend_lst=[\"hari\",\"akshay\",\"lalla\",\"vivek\",\"manikumar\",\"vignesh\",\"giri\",\"sairam\"]\n",
    "for i in friend_lst:\n",
    "    if i==\"vivek\":\n",
    "        print(\"vivek heart broken\")\n",
    "        pass\n",
    "    print(i)"
   ]
  },
  {
   "cell_type": "code",
   "execution_count": 13,
   "id": "584a943a-06dc-4e18-b7ec-1a655b792cac",
   "metadata": {},
   "outputs": [
    {
     "name": "stdout",
     "output_type": "stream",
     "text": [
      "hari\n",
      "akshay\n",
      "lalla\n",
      "vivek heart broken\n",
      "manikumar\n",
      "vignesh\n",
      "giri\n",
      "sairam\n"
     ]
    }
   ],
   "source": [
    "friend_lst=[\"hari\",\"akshay\",\"lalla\",\"vivek\",\"manikumar\",\"vignesh\",\"giri\",\"sairam\"]\n",
    "for i in friend_lst:\n",
    "    if i==\"vivek\":\n",
    "        print(\"vivek heart broken\")\n",
    "        continue\n",
    "    print(i)"
   ]
  },
  {
   "cell_type": "code",
   "execution_count": null,
   "id": "ecaebdcd-94cf-4b3e-a647-4357339f41ec",
   "metadata": {},
   "outputs": [],
   "source": []
  }
 ],
 "metadata": {
  "kernelspec": {
   "display_name": "Python 3 (ipykernel)",
   "language": "python",
   "name": "python3"
  },
  "language_info": {
   "codemirror_mode": {
    "name": "ipython",
    "version": 3
   },
   "file_extension": ".py",
   "mimetype": "text/x-python",
   "name": "python",
   "nbconvert_exporter": "python",
   "pygments_lexer": "ipython3",
   "version": "3.10.8"
  }
 },
 "nbformat": 4,
 "nbformat_minor": 5
}
